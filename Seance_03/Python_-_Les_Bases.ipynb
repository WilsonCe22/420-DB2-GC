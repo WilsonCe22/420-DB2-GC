{
 "cells": [
  {
   "cell_type": "markdown",
   "metadata": {},
   "source": [
    "---\n",
    "# <p style=\"text-align: center;\">Programmation en Python</p> \n",
    "\n",
    "---\n",
    "\n",
    "## Programmation\n",
    "\n",
    "* Instructions\n",
    "* Mémoire\n",
    "* Algorithme / Contrôle de flux\n",
    "\n",
    "## Programmation\n",
    "* Language du cours : Python 3\n",
    "* Environement de dévelopment\n",
    "    * Google Collab https://colab.research.google.com/\n",
    "    * PyCharm\n",
    "    * Anaconda / Jupyter - https://www.anaconda.com/products/individual\n",
    "\n",
    "## Anaconda / Jupyter Notebook\n",
    "* Anaconda est un environnement de travail pour les sciences de la données.\n",
    "* L'application permet la gestion et configuration de plusieurs plateformes des scienses de la donnée basé sur Python, R et d'autres.\n",
    "* La majorité du travail en Python se fait à l'intérieur de Jupyter Notebooks qui permet de mélangé documentation, code et visualisation dans un seul fichier. Ce fichier à l'extension `.ipynb` pour `Interactive PYthon NoteBook`. Ce fichier peut être lu par une panoplie d'application.\n",
    "* Dans notre cas, Jupyter Labs est conseiller pour la session. Il existe aussi d'autres applications permettant de lire les Python notebook :\n",
    "    * PyCharm\n",
    "    * Datalore\n",
    "    * VS Code\n",
    "    * Jupyter Notebook (anciennce version de Jupyter Labs)\n",
    "\n",
    "# Markdown\n",
    "* Pour la documentation, la format Markdown est utilisé. Celui-ci utilise des balises pour avoir un formatage facile et conviviale qui est initiallement en format texte.\n",
    "* Veuillez vous référé à la [Documentation de Markdown](https://jupyter-notebook.readthedocs.io/en/stable/examples/Notebook/Working%20With%20Markdown%20Cells.html) pour l'utilisation des différentes balises du format.\n",
    "\n",
    "## Affichage avec la fonction `print`\n",
    "* L'affichage de texte utilise la fonction `print` pour présenter une chaine de caractères dans la fenêtre de commande.\n",
    "\n",
    "~~~python\n",
    "print('Texte à afficher!')\n",
    "~~~"
   ]
  },
  {
   "cell_type": "code",
   "execution_count": 2,
   "metadata": {},
   "outputs": [
    {
     "name": "stdout",
     "output_type": "stream",
     "text": [
      "Texte à afficher!\n"
     ]
    }
   ],
   "source": [
    "print('Texte à afficher!')"
   ]
  },
  {
   "cell_type": "markdown",
   "metadata": {},
   "source": [
    "\n",
    "## Les chaines de caractères\n",
    "* Les chaines de caractères (du texte litéral) est délimité par des guillement simple `'` ou double `\"`.\n",
    "* Cette distinction permet de faire la différence entre les instructions et le texte à utiliser dans le programme.\n",
    "* Deux symbole sont disponible pour facilité l'utlisation de l'autre type de guillemet dans une chaine.\n",
    "* Il est aussi possible d'utiliser les triples symboles pour délimité une chaine.\n",
    "\n",
    "~~~python\n",
    "print('Texte à afficher!')\n",
    "print('Le \"best\" texte')\n",
    "print(\"Y'en a pas de meilleur texte.\")\n",
    "print(\"\"\"C'est possible d'avoir du texte avec les deux \"quotes\" dans une chaine.\"\"\")\n",
    "print(\"\"\"Même\n",
    "sur plusieurs\n",
    "ligne\"\"\")\n",
    "~~~"
   ]
  },
  {
   "cell_type": "code",
   "execution_count": 3,
   "metadata": {},
   "outputs": [
    {
     "name": "stdout",
     "output_type": "stream",
     "text": [
      "Texte à afficher!\n",
      "Le \"best\" texte\n",
      "Y'en a pas de meilleur texte.\n",
      "C'est possible d'avoir du texte avec les deux \"quotes\" dans une chaine.\n",
      "Même\n",
      "sur plusieurs\n",
      "ligne\n"
     ]
    }
   ],
   "source": [
    "print('Texte à afficher!')\n",
    "print('Le \"best\" texte')\n",
    "print(\"Y'en a pas de meilleur texte.\")\n",
    "print(\"\"\"C'est possible d'avoir du texte avec les deux \"quotes\" dans une chaine.\"\"\")\n",
    "print(\"\"\"Même\n",
    "sur plusieurs\n",
    "ligne\"\"\")"
   ]
  },
  {
   "cell_type": "markdown",
   "metadata": {},
   "source": [
    "## Commentaires\n",
    "* Le hashtag `#` débute une ligne de commentaire;\n",
    "* Le reste de la ligne après le `#` ne sera pas considéré par python durant l'exécution du code;\n",
    "* Une ligne vide sera aussi sautée par python;\n",
    "* Les commentaires sont primordiaux à la programmation;\n",
    "* Les commentaires sont utilisés en en-tête de fichiers, fonctions et programme ainsi qu’à l’intérieur d’un programme pour aider à comprendre l’intention des instructions.\n",
    "\n",
    "~~~python\n",
    "print('Texte à afficher!')\n",
    "# Utilise le caractère spécial \\n pour un saut de ligne\n",
    "print('Une ligne\\net une autre')\n",
    "print (3 + 6) # print peut aussi afficher le résultat d'une expression\n",
    "~~~"
   ]
  },
  {
   "cell_type": "code",
   "execution_count": 4,
   "metadata": {},
   "outputs": [
    {
     "name": "stdout",
     "output_type": "stream",
     "text": [
      "Texte à afficher!\n",
      "Une ligne\n",
      "et une autre\n",
      "9\n"
     ]
    }
   ],
   "source": [
    "print('Texte à afficher!')\n",
    "# Utilise le caractère spécial \\n pour un saut de ligne\n",
    "print('Une ligne\\net une autre')\n",
    "print (3 + 6) # print peut aussi afficher le résultat d'une expression"
   ]
  },
  {
   "cell_type": "markdown",
   "metadata": {},
   "source": [
    "## Variables et instruction d'assignation\n",
    "* Une variable est la combinaison d’un espace mémoire réservé, un identificateur et une valeur;\n",
    "* L'assignation utilise l'égalité `=` pour lier la valeur à l'identificateur;\n",
    "\n",
    "~~~python\n",
    "nomVariable = 10\n",
    "print(nomVariable)\n",
    "~~~"
   ]
  },
  {
   "cell_type": "code",
   "execution_count": null,
   "metadata": {},
   "outputs": [],
   "source": []
  },
  {
   "cell_type": "markdown",
   "metadata": {},
   "source": [
    "## Assignation et instruction\n",
    "\n",
    "* L’assignation se fait toujours d’une **expression** à droite vers un identificateur à gauche;\n",
    "* L'expression sera évaluée avant d'être assignée dans la variable;\n",
    "\n",
    "~~~python\n",
    "nomVariable = nomVariable + 5\n",
    "~~~\n",
    "\n",
    "* Le contenu d'une variable existante est écrasé lors d'une assignation.\n",
    "\n",
    "* Une longue instruction peut être coupé sur une deuxième ligne avec le caractère `\\`\n",
    "\n",
    "~~~python\n",
    "nomVariable = nomVariable + 5 + nomVariable + \\\n",
    "  nomVariable + nomVariable\n",
    "~~~"
   ]
  },
  {
   "cell_type": "markdown",
   "metadata": {},
   "source": [
    "## Identificateurs\n",
    "* Les identificateurs sont utilisés pour identifier les différents éléments que nous ajoutons à notre programme;\n",
    "* Les identificateurs sont les noms que l’on donne à nos variables, scripts et fonctions;\n",
    "* Les caractères permis sont :\n",
    "    * Tout caractère alphanumérique;\n",
    "    * Le tiret-bas `_`.\n",
    "* Le premier caractère doit être alphabétique;\n",
    "* Le nom de la variable ne doit pas être un mot réservé par la syntaxe de python;\n",
    "* Faites attention! Pour python, les majuscules et minuscules sont des caractères différents;\n",
    "* Par convention, `camelCase`.\n",
    "\n",
    "## Type de données\n",
    "* Quatre types de données seront rencontrés généralement durant ce cours:\n",
    "    * `int` - entité numérique entière(ex: 3, -4);\n",
    "    * `float` - entitée numérique flottante (3.542, -0.23);\n",
    "    * `str` - entité textuelle (ex: 'a', 'Bonjour!');\n",
    "      - Les chaines de caractères sont délimitées par des guillemets simples ou doubles.\n",
    "    * `bool` - valeur logique vraie (True) ou fausse (False).\n",
    "\n",
    "## Saisie avec la fonction `input`\n",
    "* Une saisie utilise la fonction `input` pour assigner l’entrée d’un utilisateur dans une variable.\n",
    "* Puisque le retour sera toujours en `str`, il faut le convertir au besoin. \n",
    "* La fonction `int` ou `float` permet de convertir la chaine en entier ou en réel.\n",
    "\n",
    "~~~python\n",
    "## Saisie d'un nombre\n",
    "## Doit convertir la valeur\n",
    "saisi = int(input('Texte à afficher à la saisie: '))\n",
    "\n",
    "## Saisie d'une chaine de caractères (texte)\n",
    "saisiChaine = input('Texte à afficher: ')\n",
    "~~~\n"
   ]
  },
  {
   "cell_type": "markdown",
   "metadata": {},
   "source": [
    "## Affichage d'expression avec `print`\n",
    "* `print` a la possibilité d'afficher l'évaluation d'une expression;\n",
    "* Il est possible de découper sur plusieurs ligne l'utilsation du print.\n",
    "  \n",
    "~~~python\n",
    "x = 3;\n",
    "chaine = 'allo';\n",
    "print('Chiffre: ', x)\n",
    "print('Chaine: ', chaine)\n",
    "print('Chiffre' , x, \n",
    "  'et chaine', chaine)\n",
    "~~~\n"
   ]
  },
  {
   "cell_type": "markdown",
   "metadata": {},
   "source": [
    "## Caractère d'échapement\n",
    "\n",
    "* Les caractères d'échapements permetent d'inséré des éléments non-textuelles dans un affichage de la fonction print.\n",
    "\n",
    "| Caractère | Description |\n",
    "| -- | -- |\n",
    "| `\\n` | Saut de ligne\n",
    "| `\\t` | Saut de tabulation horizontale\n",
    "| `\\'` | Affiche un guillemet simple\n",
    "| `\\\"` | Affiche un guillemet double\n",
    "| `\\\\` | Affiche un backslash\n",
    "\n",
    "## Terminaison de ligne avec `print`\n",
    "Il est possible de supprimer le saut de ligne du print avec le paramètre `end`\n",
    "\n",
    "~~~python\n",
    "print('One', end=' ') \n",
    "print('Two', end=' ') \n",
    "print('Three')\n",
    "# Affiche 'OneTwoThree'\n",
    "~~~"
   ]
  },
  {
   "cell_type": "markdown",
   "metadata": {},
   "source": [
    "## Séparateur d'item avec `print`\n",
    "\n",
    "Il est aussi possible de change le séparateur d'items qui est l'espace par défault.\n",
    "\n",
    "~~~python\n",
    "# Affiche 'One Two Three'. Séparateur d'espace.\n",
    "print('One', 'Two', 'Three') \n",
    "\n",
    "# Affiche 'OneTwoThree'. Séprateur vide.\n",
    "print('One', 'Two', 'Three', sep='') \n",
    "\n",
    "# Affiche 'One,Two,Three'. Séparateur virgule.\n",
    "print('One', 'Two', 'Three', sep=',')\n",
    "~~~"
   ]
  },
  {
   "cell_type": "markdown",
   "metadata": {},
   "source": [
    "## Concaténation de chaine avec `+`\n",
    "\n",
    "Le `+` peut être utilisé entre deux chaines pour faire la concaténation (collé) entre les deux chaines.\n",
    "\n",
    "~~~python\n",
    "# Affiche 'Ceci est un test.'\n",
    "print('Ceci est ' + 'un test.')\n",
    "~~~"
   ]
  },
  {
   "cell_type": "markdown",
   "metadata": {},
   "source": [
    "## Formatage des données avec `format`\n",
    "\n",
    "La fonction `format` permet de faire le formatage de valeur numérique pour un affichage.\n",
    "\n",
    "`format` reçoit la valeur à formater et un *spécificateur de formatage*.\n",
    "\n",
    "~~~python\n",
    "# Affiche '123.45'\n",
    "# Le nombre à formater est 123.45678\n",
    "# Le spécificateur de formatage est '.2f'\n",
    "# Le .2 indique la précision\n",
    "# Le f indique que le nombre est un float (point-flottant)\n",
    "print(format(123.45678, '.2f'))\n",
    "\n",
    "# Affiche '1.234568e+04'\n",
    "print(format(12345.6789, 'e'))\n",
    "# Affiche '1.23e+04'\n",
    "print(format(12345.6789, '.2e'))\n",
    "\n",
    "# Affiche '50.000000%'\n",
    "print(format(0.5, '%'))\n",
    "# Affiche '50%'\n",
    "print(format(0.5, '.0%'))\n",
    "~~~"
   ]
  },
  {
   "cell_type": "markdown",
   "metadata": {},
   "source": [
    "## Opérations arithmétique\n",
    "\n",
    "Symbole | Opération        | Description\n",
    "--------|------------------|------------------------------------------------------------\n",
    "`+`     | Addition         | Additionne deux nombres\n",
    "`-`     | Soustraction     | Soustrait deux nombres\n",
    "`*`     | Multiplication   | Multiplication de deux nombres\n",
    "`/`     | Division         | Division de deux nombres\n",
    "`//`    | Division entière | Division de deux nombres, garde seulement la partie entière\n",
    "`%`     | Modulo           | Trouve le restant d'une division\n",
    "`**`    | Puissance        | Met un nombre à une puissance\n",
    "\n",
    "## Opérateurs relationnels\n",
    "* Les opérateurs relationnels permettent de faire des comparaisons entre deux expressions;\n",
    "* Les opérateurs donnent toujours un résultat logique booléen(vrai ou faux);\n",
    "* Les opérateurs sont :\n",
    "    * `<`, `<=`, `>`, `>=`, `==` (égalité), `!=` (différent de).\n",
    "* Il est à noter ici que l'opérateur d'égalité utilise `==` car l'assignation utilise déjà le simple `=`.\n",
    "\n",
    "## Options de la conditionnel `if`\n",
    "* Plusieurs options sont disponibles avec le if;\n",
    "~~~python\n",
    "if expression logique:\n",
    "    instructions\n",
    "elif expression logique:\n",
    "    instructions\n",
    "else:\n",
    "    instructions\n",
    "\n",
    "~~~\n",
    "* Seul un des blocs d’instructions (décision) du `if` est exécuté\n",
    "* Le `elif` et le `else` sont facultatifs\n",
    "* Le `elif` peut être répété à plusieurs reprises avec différentes expressions"
   ]
  },
  {
   "cell_type": "markdown",
   "metadata": {},
   "source": [
    "## Structure de contrôle itérative `while`\n",
    "* La boucle `while` répète les instructions jusqu’à ce que la condition soit fausse ;\n",
    "\n",
    "~~~python\n",
    "while condition:\n",
    "    instructions\n",
    "~~~\n",
    "\n",
    "* Le `while` est habituellement utilisé quand on ne connait pas le nombre d’itérations à faire."
   ]
  },
  {
   "cell_type": "markdown",
   "metadata": {},
   "source": [
    "## Structure de contrôle itératif `for`\n",
    "* Lorsque le nombre d’itérations est connu, la boucle `for` sera utilisée ;\n",
    "* La boucle `for` inclut un compteur qui est configuré au début de la boucle ;\n",
    "\n",
    "~~~python\n",
    "for x in liste:\n",
    "    instructions\n",
    "\n",
    "for x in [4, 56, 3]:\n",
    "    intructions\n",
    "\n",
    "for x in range(10):\n",
    "    instructions\n",
    "~~~"
   ]
  },
  {
   "cell_type": "markdown",
   "metadata": {},
   "source": [
    "## Opérateurs logiques\n",
    "* Les opérateurs logiques opèrent sur des valeurs logiques et retournent des valeurs logiques ;\n",
    "    * La conjonction ET `and` ;\n",
    "    * La disjonction OU `or` ;\n",
    "    * La négation NON `not`.\n",
    "\n",
    "`A` | `B` |   | `A and B` | `A or B`\n",
    "----|-----|---|:--------:|:-------:\n",
    "False  | False  |   | False       | False\n",
    "False  | True   |   | False       | True\n",
    "True   | False  |   | False       | True\n",
    "True   | True   |   | True        | True\n",
    "\n",
    "`A` | `not A`\n",
    "----|:---:\n",
    "False  | True\n",
    "True   | False"
   ]
  },
  {
   "cell_type": "markdown",
   "metadata": {},
   "source": [
    "## Fonctions\n",
    "* Les fonctions sont des séries d'instructions contenues dans un ensemble pouvant être facilement re-utilisé. Par convention, la fonction doit faire une tâche simple et précise;\n",
    "* Contrairement aux scripts, les fonctions n'auront pas de saisit avec `input` et pas d'affichage avec `print`. Cela à moins d'être expressément demandé.\n",
    "* Les fonctions peuvent demander des paramètres (ou arguments) d'entrées. Ce sont des informations préalables aux calculs de la fonction;\n",
    "* Les fonctions peuvent émettre des réponses que l'on appelle retour."
   ]
  },
  {
   "cell_type": "markdown",
   "metadata": {},
   "source": [
    "## Présentation d'une fonction minimale\n",
    "~~~python\n",
    "def nomFonction():\n",
    "    instructions\n",
    "\n",
    "~~~\n",
    "\n",
    "* Une fonction est au début du fichier;\n",
    "* La fonction peut ensuite être appelée par son nom d'autres programmes."
   ]
  },
  {
   "cell_type": "markdown",
   "metadata": {},
   "source": [
    "## Paramètres d'entrées\n",
    "* Une fonction peut demander des paramètres d'entrées;\n",
    "* Ceux-ci seront dans une liste après le nom de la fonction entre parenthèses délimitée par une virgule;\n",
    "* Les paramètres d'entrées seront fournis par l'appelant de la fonction et peuvent donc être utilisés à l'intérieur des instructions de la fonction sans être assignés préalablement.\n",
    "\n",
    "~~~python\n",
    "def fcnAvecIn(var1, var2):\n",
    "    print(var1 * var2)\n",
    "\n",
    "~~~"
   ]
  },
  {
   "cell_type": "markdown",
   "metadata": {},
   "source": [
    "## Retours\n",
    "* La fonction peut retourner un résultat qui sera utilisable par l'appelant de la fonction.\n",
    "* Le mot-clé `return` est utilisé quand l'expression de retour est prête à être renvoyée.\n",
    "* Une fonction qui ne contient pas de retour est aussi nommée une procédure.\n",
    "\n",
    "~~~python\n",
    "def fcnAvecRetour():\n",
    "    instructions\n",
    "    return expression\n",
    "~~~\n",
    "\n",
    "## Modules\n",
    "* Plusieurs fichiers de python avec différentes fonctions peuvent interagir entre eux. Chaque fichier créé est considéré comme étant un module qu'on peut importer dans pour nos programmes;\n",
    "* La commande `import` permet d’importer les fonctions d'un autre fichier;\n",
    "* Le nom du module est le nom du fichier sans son extension `.py`;\n",
    "* L'utilisation des fonctions du module importer devra être précédée du nom du module et un point.\n",
    "\n",
    "```python\n",
    "import mon_module # Du fichier mon_module.py\n",
    "\n",
    "# Appel de la fonction du module importé.\n",
    "mon_module.ma_fonction(4, 5)\n",
    "```\n",
    "\n",
    "## Modules fournis\n",
    "* Plusieurs modules sont fournis et nous verrons qu'il existe un très grand écosystème de module pouvant nous faciliter la création de nos programmes.\n",
    "* Par exemple, le module `math` nous donne plusieurs fonctions mathématiques communes.\n",
    "* Pour savoir lesquelles et leurs utilisations, il faut consulter leur documentation;\n",
    "  * https://docs.python.org/3/library/math.html\n",
    "\n",
    "```python\n",
    "import math\n",
    "\n",
    "reponse = math.sqrt(45)\n",
    "```"
   ]
  }
 ],
 "metadata": {
  "kernelspec": {
   "display_name": "Python 3 (ipykernel)",
   "language": "python",
   "name": "python3"
  },
  "language_info": {
   "codemirror_mode": {
    "name": "ipython",
    "version": 3
   },
   "file_extension": ".py",
   "mimetype": "text/x-python",
   "name": "python",
   "nbconvert_exporter": "python",
   "pygments_lexer": "ipython3",
   "version": "3.11.6"
  }
 },
 "nbformat": 4,
 "nbformat_minor": 4
}
